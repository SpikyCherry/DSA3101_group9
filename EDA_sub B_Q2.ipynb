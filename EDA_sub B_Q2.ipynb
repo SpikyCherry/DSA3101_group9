{
 "cells": [
  {
   "cell_type": "code",
   "execution_count": 1,
   "metadata": {},
   "outputs": [
    {
     "name": "stdout",
     "output_type": "stream",
     "text": [
      "   age           job  marital  education default  balance housing loan  \\\n",
      "0   58    management  married   tertiary      no     2143     yes   no   \n",
      "1   44    technician   single  secondary      no       29     yes   no   \n",
      "2   33  entrepreneur  married  secondary      no        2     yes  yes   \n",
      "3   47   blue-collar  married    unknown      no     1506     yes   no   \n",
      "4   33       unknown   single    unknown      no        1      no   no   \n",
      "\n",
      "   contact  day month  duration  campaign  pdays  previous poutcome   y  \n",
      "0  unknown    5   may       261         1     -1         0  unknown  no  \n",
      "1  unknown    5   may       151         1     -1         0  unknown  no  \n",
      "2  unknown    5   may        76         1     -1         0  unknown  no  \n",
      "3  unknown    5   may        92         1     -1         0  unknown  no  \n",
      "4  unknown    5   may       198         1     -1         0  unknown  no  \n"
     ]
    },
    {
     "name": "stderr",
     "output_type": "stream",
     "text": [
      "/var/folders/3j/51w1rjp53fd_5rt5m6xczh4w0000gn/T/ipykernel_52332/2330785831.py:1: DeprecationWarning: \n",
      "Pyarrow will become a required dependency of pandas in the next major release of pandas (pandas 3.0),\n",
      "(to allow more performant data types, such as the Arrow string type, and better interoperability with other libraries)\n",
      "but was not found to be installed on your system.\n",
      "If this would cause problems for you,\n",
      "please provide us feedback at https://github.com/pandas-dev/pandas/issues/54466\n",
      "        \n",
      "  import pandas as pd\n"
     ]
    }
   ],
   "source": [
    "import pandas as pd\n",
    "\n",
    "file_path = \"/Users/huahua/Desktop/train.csv\"\n",
    "\n",
    "# Read the CSV file\n",
    "df = pd.read_csv(file_path, delimiter=\";\")\n",
    "\n",
    "# Display first few rows\n",
    "print(df.head())\n"
   ]
  },
  {
   "cell_type": "markdown",
   "metadata": {},
   "source": [
    "# generate conversion rate column"
   ]
  },
  {
   "cell_type": "code",
   "execution_count": 2,
   "metadata": {},
   "outputs": [
    {
     "name": "stdout",
     "output_type": "stream",
     "text": [
      "    y  campaign  conversion_rate\n",
      "0  no         1              0.0\n",
      "1  no         1              0.0\n",
      "2  no         1              0.0\n",
      "3  no         1              0.0\n",
      "4  no         1              0.0\n"
     ]
    }
   ],
   "source": [
    "# Convert 'y' to binary (1 for 'yes', 0 for 'no')\n",
    "df['conversion_binary'] = df['y'].apply(lambda x: 1 if x == 'yes' else 0)\n",
    "\n",
    "# Calculate conversion rate (success rate per contact attempt)\n",
    "df['conversion_rate'] = df['conversion_binary'] / df['campaign']\n",
    "\n",
    "# Display the first few rows\n",
    "print(df[['y', 'campaign', 'conversion_rate']].head())"
   ]
  },
  {
   "cell_type": "code",
   "execution_count": 3,
   "metadata": {},
   "outputs": [
    {
     "name": "stdout",
     "output_type": "stream",
     "text": [
      "         y  campaign  conversion_rate\n",
      "34050  yes         1              1.0\n",
      "8731   yes         1              1.0\n",
      "36792  yes         1              1.0\n",
      "42835  yes         1              1.0\n",
      "42834  yes         1              1.0\n"
     ]
    }
   ],
   "source": [
    "# Sort dataframe by conversion_rate in descending order\n",
    "df_sorted = df.sort_values(by='conversion_rate', ascending=False)\n",
    "\n",
    "# Display the first few rows after sorting\n",
    "print(df_sorted[['y', 'campaign', 'conversion_rate']].head())\n"
   ]
  },
  {
   "cell_type": "markdown",
   "metadata": {},
   "source": [
    "# generate best time to contact col"
   ]
  },
  {
   "cell_type": "code",
   "execution_count": 4,
   "metadata": {},
   "outputs": [
    {
     "name": "stdout",
     "output_type": "stream",
     "text": [
      "            job best_contact_time\n",
      "0    management             4-5pm\n",
      "1    technician             4-5pm\n",
      "2  entrepreneur             4-5pm\n",
      "3   blue-collar             4-5pm\n",
      "4       unknown             4-5pm\n"
     ]
    }
   ],
   "source": [
    "contact_time_mapping = {\n",
    "    \"student\": \"6-8pm\",\n",
    "    \"retired\": \"12-2pm\",\n",
    "    \"unemployed\": \"12-2pm\",\n",
    "    \"housemaid\": \"2-4pm\",\n",
    "    \"admin.\": \"4-5pm\",\n",
    "    \"management\": \"4-5pm\",\n",
    "    \"entrepreneur\": \"4-5pm\",\n",
    "    \"blue-collar\": \"4-5pm\",\n",
    "    \"self-employed\": \"4-5pm\",\n",
    "    \"technician\": \"4-5pm\",\n",
    "    \"services\": \"4-5pm\",\n",
    "    \"unknown\": \"4-5pm\"\n",
    "}\n",
    "\n",
    "# Apply mapping to create the new column\n",
    "df[\"best_contact_time\"] = df[\"job\"].map(contact_time_mapping)\n",
    "\n",
    "# Display result\n",
    "print(df[[\"job\", \"best_contact_time\"]].head())"
   ]
  },
  {
   "cell_type": "markdown",
   "metadata": {},
   "source": [
    "# generate fatigue score"
   ]
  },
  {
   "cell_type": "code",
   "execution_count": 5,
   "metadata": {},
   "outputs": [
    {
     "name": "stdout",
     "output_type": "stream",
     "text": [
      "   campaign  previous  decay_factor  fatigue_score\n",
      "0         1         0           0.5            0.5\n",
      "1         1         0           0.5            0.5\n",
      "2         1         0           0.5            0.5\n",
      "3         1         0           0.5            0.5\n",
      "4         1         0           0.5            0.5\n"
     ]
    }
   ],
   "source": [
    "# Define decay factor (adjust as needed)\n",
    "df[\"decay_factor\"] = df.apply(lambda row: 0.7 if (row[\"campaign\"] + row[\"previous\"]) > 5 else 0.5, axis=1)\n",
    "\n",
    "# Calculate Fatigue Score\n",
    "df[\"fatigue_score\"] = (df[\"campaign\"] + df[\"previous\"]) * df[\"decay_factor\"]\n",
    "\n",
    "# Display the results\n",
    "print(df[[\"campaign\", \"previous\", \"decay_factor\", \"fatigue_score\"]].head())\n"
   ]
  },
  {
   "cell_type": "code",
   "execution_count": 6,
   "metadata": {},
   "outputs": [
    {
     "name": "stdout",
     "output_type": "stream",
     "text": [
      "<bound method NDFrame.head of        age           job   marital  education default  balance housing loan  \\\n",
      "0       58    management   married   tertiary      no     2143     yes   no   \n",
      "1       44    technician    single  secondary      no       29     yes   no   \n",
      "2       33  entrepreneur   married  secondary      no        2     yes  yes   \n",
      "3       47   blue-collar   married    unknown      no     1506     yes   no   \n",
      "4       33       unknown    single    unknown      no        1      no   no   \n",
      "...    ...           ...       ...        ...     ...      ...     ...  ...   \n",
      "45206   51    technician   married   tertiary      no      825      no   no   \n",
      "45207   71       retired  divorced    primary      no     1729      no   no   \n",
      "45208   72       retired   married  secondary      no     5715      no   no   \n",
      "45209   57   blue-collar   married  secondary      no      668      no   no   \n",
      "45210   37  entrepreneur   married  secondary      no     2971      no   no   \n",
      "\n",
      "         contact  day  ... campaign  pdays  previous  poutcome    y  \\\n",
      "0        unknown    5  ...        1     -1         0   unknown   no   \n",
      "1        unknown    5  ...        1     -1         0   unknown   no   \n",
      "2        unknown    5  ...        1     -1         0   unknown   no   \n",
      "3        unknown    5  ...        1     -1         0   unknown   no   \n",
      "4        unknown    5  ...        1     -1         0   unknown   no   \n",
      "...          ...  ...  ...      ...    ...       ...       ...  ...   \n",
      "45206   cellular   17  ...        3     -1         0   unknown  yes   \n",
      "45207   cellular   17  ...        2     -1         0   unknown  yes   \n",
      "45208   cellular   17  ...        5    184         3   success  yes   \n",
      "45209  telephone   17  ...        4     -1         0   unknown   no   \n",
      "45210   cellular   17  ...        2    188        11     other   no   \n",
      "\n",
      "      conversion_binary conversion_rate  best_contact_time  decay_factor  \\\n",
      "0                     0        0.000000              4-5pm           0.5   \n",
      "1                     0        0.000000              4-5pm           0.5   \n",
      "2                     0        0.000000              4-5pm           0.5   \n",
      "3                     0        0.000000              4-5pm           0.5   \n",
      "4                     0        0.000000              4-5pm           0.5   \n",
      "...                 ...             ...                ...           ...   \n",
      "45206                 1        0.333333              4-5pm           0.5   \n",
      "45207                 1        0.500000             12-2pm           0.5   \n",
      "45208                 1        0.200000             12-2pm           0.7   \n",
      "45209                 0        0.000000              4-5pm           0.5   \n",
      "45210                 0        0.000000              4-5pm           0.7   \n",
      "\n",
      "      fatigue_score  \n",
      "0               0.5  \n",
      "1               0.5  \n",
      "2               0.5  \n",
      "3               0.5  \n",
      "4               0.5  \n",
      "...             ...  \n",
      "45206           1.5  \n",
      "45207           1.0  \n",
      "45208           5.6  \n",
      "45209           2.0  \n",
      "45210           9.1  \n",
      "\n",
      "[45211 rows x 22 columns]>\n"
     ]
    }
   ],
   "source": [
    "print(df.head)"
   ]
  }
 ],
 "metadata": {
  "kernelspec": {
   "display_name": "Python 3",
   "language": "python",
   "name": "python3"
  },
  "language_info": {
   "codemirror_mode": {
    "name": "ipython",
    "version": 3
   },
   "file_extension": ".py",
   "mimetype": "text/x-python",
   "name": "python",
   "nbconvert_exporter": "python",
   "pygments_lexer": "ipython3",
   "version": "3.11.1"
  },
  "orig_nbformat": 4
 },
 "nbformat": 4,
 "nbformat_minor": 2
}
